{
    "cells": [
        {
            "metadata": {
                "collapsed": true
            },
            "cell_type": "markdown",
            "source": "# IBM Applied Data Science Capstone Project - The Battle of Neighborhoods"
        },
        {
            "metadata": {},
            "cell_type": "markdown",
            "source": "##                                                                                               Week 1 "
        },
        {
            "metadata": {},
            "cell_type": "markdown",
            "source": "### >> Introduction\n#### _Problem Description & Discussion of the Background_"
        },
        {
            "metadata": {},
            "cell_type": "markdown",
            "source": "Consider a scenario where we want to find a house in Silicon Valley. We narrow down the search into 5 cities in south bay & east bay areas: Cupertino, Sunnyvale, Milpitas, Fremont and Pleasanton. First of all, we want to know where they are, as well as some basic information - such as population, median household income, median house value, top employers and local schools. Then we will dig a little bit more details, such as demographics profile, population change in recent years, & education ratings. As we may not be able to obtain all the data from one single source, we want to do a comparison of one single dataset from various sources. Furthermore, we want to explore the neighborhoods (using zipcode to represent) and find out whether there are similar neighborhoods in more affordable areas with those in the expensive areas."
        },
        {
            "metadata": {},
            "cell_type": "markdown",
            "source": "### >> Data framing & Methodology\n#### _Description of the data and how it will be used to solve the problem_"
        },
        {
            "metadata": {},
            "cell_type": "markdown",
            "source": "*Demographic information* and *Zipcode* are obtained from **Zipcode.org**. Information of *demographics profile, population of 2010* from the United States Census, *estimated population of 2019* and *local top employers* are obtained from **Wikipedia**. Getting **Niche** grades for *Public schools, Housing, Good for families* and *Cost of living* and median house value, median household income, high school names from its website.\nFrom **Opendatasoft**, we retrieve *latitude and longitude* information for each zipcode. With them, we make enquiry to **Foursquare** for location data."
        },
        {
            "metadata": {},
            "cell_type": "markdown",
            "source": "**Data Sources** <br>\n[zipcode.org](https://zipcode.org/state/california \"California Zipcode Data\") <br>\n[wikipedia.org](https://en.wikipedia.org/wiki/Main_Page \"Wiki Main Page\") <br>\n[niche.com](https://www.niche.com/?ref=places-to-live \"Places to Live\") <br>\n[opendatasoft.com](https://public.opendatasoft.com/explore/dataset/us-zip-code-latitude-and-longitude/table/ \"Zipcode Geographic Data\") <br>\n[foursquare.com](https://foursquare.com/developers/apps \"Foursquare API\")"
        },
        {
            "metadata": {},
            "cell_type": "markdown",
            "source": "--> Using **Folium**, the regional map is displayed. <br>\nThen **Pandas** DataFrame is created through the collected information from Zipcode.org, Wikipedia and NICHE respectively. <br>\nFor Visualization, **Matplotlib** & **Seaborn** are used for plotting: <br>\n1, Population and Demographics Profile <br>\n2, Population Change from 2010 to 2019 <br>\n3, Median House Value and Household Income <br>\n4, Population Data Comparison from Zipcode.org, Wikipedia and NICHE <br>\nWith these, we combine three dataframes into one Dataframe to summarize all the information we want to know except for location data. <br>\nFor instance: city, population, public school ratings, median house value and household income, rent, high schools, top local employers, zipcodes (neighborhoods)."
        },
        {
            "metadata": {},
            "cell_type": "markdown",
            "source": ">> Print each Zipcode along with the top 5 most common venues from **Foursquare**. <br>\n>> Explore and cluster the neighborhoods using *K-Means clustering* from machine learning library **SciKit Learn**. <br>\n>> Visualize the resulting clusters on regional map with **Folium** with colored zipcode dots representing different neighborhood category type."
        },
        {
            "metadata": {},
            "cell_type": "code",
            "source": "",
            "execution_count": null,
            "outputs": []
        }
    ],
    "metadata": {
        "kernelspec": {
            "name": "python3",
            "display_name": "Python 3.7",
            "language": "python"
        },
        "language_info": {
            "name": "python",
            "version": "3.7.10",
            "mimetype": "text/x-python",
            "codemirror_mode": {
                "name": "ipython",
                "version": 3
            },
            "pygments_lexer": "ipython3",
            "nbconvert_exporter": "python",
            "file_extension": ".py"
        }
    },
    "nbformat": 4,
    "nbformat_minor": 1
}